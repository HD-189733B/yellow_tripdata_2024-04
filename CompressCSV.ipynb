{
 "cells": [
  {
   "cell_type": "code",
   "execution_count": 1,
   "id": "93abbb09-2a7c-483e-b9bd-9bdd47913686",
   "metadata": {},
   "outputs": [],
   "source": [
    "import gzip\n",
    "import shutil\n",
    "\n",
    "def compress_csv(input_file, output_file):\n",
    "    # Open the CSV file for reading\n",
    "    with open(input_file, 'rb') as f_in:\n",
    "        # Open the gzip file for writing\n",
    "        with gzip.open(output_file, 'wb') as f_out:\n",
    "            # Copy the contents of the CSV file to the gzip file\n",
    "            shutil.copyfileobj(f_in, f_out)\n",
    "\n",
    "# File paths\n",
    "input_file = r'D:\\yellow_2024-04.csv'\n",
    "output_file = r'D:\\yellow_2024-04.csv.gz'\n",
    "\n",
    "# Compress the CSV file\n",
    "compress_csv(input_file, output_file)\n"
   ]
  },
  {
   "cell_type": "code",
   "execution_count": null,
   "id": "0bd91166-24f8-4ec6-aa18-376d228d3428",
   "metadata": {},
   "outputs": [],
   "source": []
  }
 ],
 "metadata": {
  "kernelspec": {
   "display_name": "Python 3 (ipykernel)",
   "language": "python",
   "name": "python3"
  },
  "language_info": {
   "codemirror_mode": {
    "name": "ipython",
    "version": 3
   },
   "file_extension": ".py",
   "mimetype": "text/x-python",
   "name": "python",
   "nbconvert_exporter": "python",
   "pygments_lexer": "ipython3",
   "version": "3.12.3"
  }
 },
 "nbformat": 4,
 "nbformat_minor": 5
}
